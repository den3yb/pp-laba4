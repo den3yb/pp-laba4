{
 "cells": [
  {
   "cell_type": "code",
   "execution_count": 1,
   "metadata": {},
   "outputs": [],
   "source": [
    "import pandas \n",
    "import string\n",
    "import nltk\n",
    "from nltk.corpus import stopwords\n",
    "from nltk.tokenize import word_tokenize\n",
    "from nltk.stem import WordNetLemmatizer\n",
    "from nltk.probability import FreqDist\n",
    "from nltk.stem.snowball import SnowballStemmer\n",
    "from pymystem3 import Mystem\n",
    "import matplotlib.pyplot\n",
    "\n",
    "path = \"C:\\\\Proganiy\\\\pp-laba3\\\\annotation.csv\""
   ]
  },
  {
   "cell_type": "code",
   "execution_count": 2,
   "metadata": {},
   "outputs": [
    {
     "name": "stdout",
     "output_type": "stream",
     "text": [
      "     Оценка Kоличество слов                                     Текст рецензии\n",
      "0         1            1853  11 марта этого года переводила 145 в Германию(...\n",
      "1         1            4278  В пятницу, 22 апреля 2022 г. Сбербанк заблокир...\n",
      "2         1            2035  Здравствуйте. Перед оформлением досудебной пре...\n",
      "3         1            3503  Я являюсь клиентом Сбербанка уже более десяти ...\n",
      "4         1            3340  Призываю предпринимателей подумать дважды, пре...\n",
      "...     ...             ...                                                ...\n",
      "2995      5             304  Сегодня хочу рассказать о Сбербанке. В этом пр...\n",
      "2996      5             863  Банк Сбербанк - это прекрасное финансовое учре...\n",
      "2997      5             979  Пользуюсь сбербанком сколько себя помню, зарпл...\n",
      "2998      5            2084  Я не сразу научилась пользоваться кредитной сб...\n",
      "2999      5             777  Пользуюсь сбербанком давно, никаких нарекании ...\n",
      "\n",
      "[3000 rows x 3 columns]\n"
     ]
    }
   ],
   "source": [
    "def create_ann(annatation: str) -> pandas.DataFrame:\n",
    "\n",
    "    \"\"\"Создаёт датафрейм по пути аннатации\"\"\"\n",
    "\n",
    "    frame = pandas.DataFrame(columns =[\"Оценка\",\"Kоличество слов\",\"Текст рецензии\"])\n",
    "    ann_temp = open(annatation, \"r\", encoding=\"utf-8\")\n",
    "    for otzv in ann_temp.readlines():\n",
    "        mas_otzv = otzv.split(\",\")\n",
    "        otzv_temp = open(mas_otzv[0],\"r\",encoding=\"utf-8\")\n",
    "        otzv_text = \" \".join(otzv_temp)\n",
    "        row = pandas.Series({\"Оценка\": int(mas_otzv[2]),\"Kоличество слов\": len(otzv_text), \"Текст рецензии\": otzv_text})\n",
    "        new_row = pandas.DataFrame([row], columns=frame.columns)\n",
    "        frame = pandas.concat([frame, new_row], ignore_index=True)\n",
    "    frame.dropna()\n",
    "    return frame\n",
    "\n",
    "data = create_ann(path)\n",
    "print (data)"
   ]
  },
  {
   "cell_type": "code",
   "execution_count": 3,
   "metadata": {},
   "outputs": [
    {
     "name": "stdout",
     "output_type": "stream",
     "text": [
      "     Оценка Kоличество слов                                     Текст рецензии\n",
      "25        1             305  В данном брал кредит сначала 500 тысяч рублей,...\n",
      "32        1             217  Было несколько случаев [цензура] с картами Сбе...\n",
      "40        1             468  Афигевший (тут должен быть мат), с тупыми мене...\n",
      "42        1             163  Одобрили кредитную карту и не выпустили, жду у...\n",
      "43        1             458  Сообщаю о мошеннических действиях. Ноль действ...\n",
      "...     ...             ...                                                ...\n",
      "2985      5             279  Пользуюсь приложением больше три года, никогда...\n",
      "2987      5             336  Не много о Сбербанке. Являюсь клиентом данного...\n",
      "2990      5             340  Очень удобное приложение банка(сбербанк онлайн...\n",
      "2994      5             146  Оформлен страховой полис на недвижимость. Уже ...\n",
      "2995      5             304  Сегодня хочу рассказать о Сбербанке. В этом пр...\n",
      "\n",
      "[855 rows x 3 columns]\n"
     ]
    }
   ],
   "source": [
    "def sort_word(frame: pandas.DataFrame) -> pandas.DataFrame:\n",
    "    \n",
    "    \"\"\"Сортирует заданный датафрейм по количеству слов\"\"\"\n",
    "\n",
    "    return frame.sort_values(['Kоличество слов'], ascending = False)\n",
    "\n",
    "\n",
    "def sort_count_word(frame: pandas.DataFrame, count: int) -> pandas.DataFrame:\n",
    "    \n",
    "    \"\"\"Сортирует заданный датафрейм по количеству слов, меньших или равных заданному значению\"\"\"\n",
    "\n",
    "    return frame.loc[frame['Kоличество слов']<=count]\n",
    "\n",
    "\n",
    "\n",
    "def sort_star(frame: pandas.DataFrame) -> pandas.DataFrame:\n",
    "    \n",
    "    \"\"\"Сортирует заданный датафрейм по количеству звёзд\"\"\"\n",
    "\n",
    "    return frame.sort_values(['Оценка'], ascending = False)\n",
    "\n",
    "def info(frame: pandas.DataFrame) -> None:\n",
    "    \n",
    "    \"\"\"Печатает информацию о заданном ДатаФрейме\"\"\"\n",
    "\n",
    "    print(frame.describe())\n",
    "\n",
    "def sort (frame: pandas.DataFrame, clas: str) -> pandas.DataFrame:\n",
    "\n",
    "    \"\"\"Сортирует заданный датафрейм по заднному признаку\"\"\"\n",
    "\n",
    "    return frame.sort_values([clas],ascending = False)\n",
    "\n",
    "print(sort_count_word(data, 500))"
   ]
  },
  {
   "cell_type": "code",
   "execution_count": 4,
   "metadata": {},
   "outputs": [
    {
     "name": "stdout",
     "output_type": "stream",
     "text": [
      "  Оценка    max  min          mid\n",
      "0      1  14990  105  1157.566667\n",
      "1      2   8398  108  1338.246667\n",
      "2      3  20464  110  1277.555000\n",
      "3      4   6447   96   897.191667\n",
      "4      5   6663  106   901.506667\n"
     ]
    }
   ],
   "source": [
    "def word_stat (frame: pandas.DataFrame) -> pandas.DataFrame:\n",
    "\n",
    "    \"\"\"Группирует заданный датафрейм по оценкам и вычисляет для них минимальное количество, слов максимальное и среднее\"\"\"\n",
    "\n",
    "    frame = frame.drop(\"Текст рецензии\", axis=1)\n",
    "    temp = frame.groupby(\"Оценка\")\n",
    "    max_word = temp.max().values.tolist()\n",
    "    min_word = temp.min().values.tolist()\n",
    "    mid_word = temp.mean().values.tolist()\n",
    "\n",
    "    max_word=sum(max_word, [])\n",
    "    min_word=sum(min_word, [])\n",
    "    mid_word=sum(mid_word, [])\n",
    "    \n",
    "    temp = pandas.DataFrame({\"Оценка\":[\"1\",\"2\",\"3\",\"4\",\"5\"]})\n",
    "    temp[\"max\"]=max_word\n",
    "    temp[\"min\"]=min_word\n",
    "    temp[\"mid\"]=mid_word\n",
    "    return(temp)\n",
    "\n",
    "print(word_stat(data))"
   ]
  },
  {
   "cell_type": "code",
   "execution_count": 5,
   "metadata": {},
   "outputs": [
    {
     "name": "stdout",
     "output_type": "stream",
     "text": [
      "март            45\n",
      "год           1929\n",
      "переводить     517\n",
      "германия         6\n",
      "денежный       308\n",
      "              ... \n",
      "распродажа       1\n",
      "увлекаться       1\n",
      "соблазн          1\n",
      "умно             1\n",
      "продтиль         1\n",
      "Length: 14899, dtype: int64\n"
     ]
    }
   ],
   "source": [
    "def create_series (frame: pandas.DataFrame) -> pandas.Series:\n",
    "    strings = to_str(frame)\n",
    "    strings = delete_marks(strings)\n",
    "    strings = to_lemm(strings)\n",
    "    dictionary = to_dict(strings)\n",
    "    d_series = pandas.Series(dictionary)\n",
    "    return(d_series)\n",
    "    \n",
    "    \n",
    "def to_str(frame: pandas.DataFrame) -> str:\n",
    "    lists = \" \"\n",
    "    for i in frame[\"Текст рецензии\"]:\n",
    "        lists += i + \" \"\n",
    "    return(lists.lower())\n",
    "\n",
    "def delete_marks (strings: str) -> str:\n",
    "    punc = '''!()-[]{};:'\",<>./?@#$%^&*~1234567890'''\n",
    "    for char in strings:\n",
    "        if char in punc:\n",
    "            strings = strings.replace(char, \" \")\n",
    "    return strings\n",
    "\n",
    "def to_lemm (strings: str) -> str:\n",
    "    temp = Mystem().lemmatize(strings)\n",
    "    to_s = \" \".join(temp)\n",
    "    return to_s\n",
    "\n",
    "def to_dict (strings: str) -> dict:\n",
    "    stop_words = stopwords.words('russian')\n",
    "    stop_words += ['банк','карта','счёт','сбербанк','перевод','перевести','сбербанк','счет','деньги','это','весь','который','кредит','сбер','банкомат']\n",
    "    temp = word_tokenize(strings)\n",
    "    filtred = [word for word in temp if word not in stop_words]\n",
    "    dictionary = {}\n",
    "    for word in filtred:\n",
    "        if word in dictionary:\n",
    "            dictionary[word] +=1\n",
    "        else:\n",
    "            dictionary[word] = 1\n",
    "    return (dictionary)\n",
    "\n",
    "ser = create_series(data)\n",
    "print(ser)"
   ]
  },
  {
   "cell_type": "code",
   "execution_count": 6,
   "metadata": {},
   "outputs": [
    {
     "data": {
      "image/png": "[encoded data removed]",
      "text/plain": [
       "<Figure size 640x480 with 1 Axes>"
      ]
     },
     "metadata": {},
     "output_type": "display_data"
    }
   ],
   "source": [
    "def create_graph(ser: pandas.Series) -> None:\n",
    "\n",
    "    ser = ser.nlargest(20)\n",
    "    matplotlib.pyplot.barh(ser.index, ser.values)\n",
    "    matplotlib.pyplot.xlabel(\"Колличество\")\n",
    "    matplotlib.pyplot.ylabel(\"Слова\")\n",
    "    matplotlib.pyplot.title(\"Анализ\")\n",
    "    matplotlib.pyplot.show()\n",
    "\n",
    "create_graph(ser)"
   ]
  }
 ],
 "metadata": {
  "kernelspec": {
   "display_name": "Python 3",
   "language": "python",
   "name": "python3"
  },
  "language_info": {
   "codemirror_mode": {
    "name": "ipython",
    "version": 3
   },
   "file_extension": ".py",
   "mimetype": "text/x-python",
   "name": "python",
   "nbconvert_exporter": "python",
   "pygments_lexer": "ipython3",
   "version": "3.12.0"
  }
 },
 "nbformat": 4,
 "nbformat_minor": 2
}
